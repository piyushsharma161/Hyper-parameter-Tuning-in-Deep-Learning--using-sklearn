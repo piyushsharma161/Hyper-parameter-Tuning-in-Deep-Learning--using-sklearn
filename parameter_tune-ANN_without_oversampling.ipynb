{
 "cells": [
  {
   "cell_type": "code",
   "execution_count": 1,
   "metadata": {},
   "outputs": [],
   "source": [
    "import numpy as np\n",
    "import pandas as pd\n",
    "import matplotlib.pyplot as plt\n",
    "from tensorflow.keras.models import Sequential\n",
    "from tensorflow.keras.layers import Dense, Activation, Flatten\n",
    "from tensorflow.keras.wrappers.scikit_learn import KerasClassifier\n",
    "from sklearn.model_selection import GridSearchCV, RandomizedSearchCV\n",
    "from sklearn.pipeline import Pipeline\n",
    "from sklearn.preprocessing import StandardScaler\n",
    "from sklearn.metrics import accuracy_score, precision_score, recall_score, f1_score, classification_report, confusion_matrix\n",
    "from sklearn.metrics import make_scorer, fbeta_score\n",
    "from sklearn.model_selection import train_test_split"
   ]
  },
  {
   "cell_type": "code",
   "execution_count": 2,
   "metadata": {},
   "outputs": [],
   "source": [
    "# Importing the dataset\n",
    "dataset = pd.read_csv('Churn_Modelling.csv')"
   ]
  },
  {
   "cell_type": "code",
   "execution_count": 3,
   "metadata": {},
   "outputs": [],
   "source": [
    "X = dataset.iloc[:, 3:]"
   ]
  },
  {
   "cell_type": "code",
   "execution_count": 4,
   "metadata": {
    "scrolled": true
   },
   "outputs": [
    {
     "data": {
      "text/plain": [
       "<matplotlib.axes._subplots.AxesSubplot at 0x2baa2199f28>"
      ]
     },
     "execution_count": 4,
     "metadata": {},
     "output_type": "execute_result"
    },
    {
     "data": {
      "image/png": "[encoded data removed]",
      "text/plain": [
       "<Figure size 432x288 with 1 Axes>"
      ]
     },
     "metadata": {
      "needs_background": "light"
     },
     "output_type": "display_data"
    }
   ],
   "source": [
    "X.Exited.value_counts().plot(kind='bar')"
   ]
  },
  {
   "cell_type": "code",
   "execution_count": 5,
   "metadata": {},
   "outputs": [],
   "source": [
    "geography = pd.get_dummies(X.Geography, drop_first=True)\n",
    "gender = pd.get_dummies(X.Gender, drop_first=True)"
   ]
  },
  {
   "cell_type": "code",
   "execution_count": 6,
   "metadata": {},
   "outputs": [],
   "source": [
    "df = pd.concat([geography, gender, X], axis=1)\n",
    "df = df.drop(['Geography', 'Gender'], axis=1)"
   ]
  },
  {
   "cell_type": "code",
   "execution_count": 7,
   "metadata": {},
   "outputs": [],
   "source": [
    "data = df.iloc[:,:-1]\n",
    "label= df.iloc[:,-1]"
   ]
  },
  {
   "cell_type": "code",
   "execution_count": 8,
   "metadata": {},
   "outputs": [
    {
     "data": {
      "text/html": [
       "<div>\n",
       "<style scoped>\n",
       "    .dataframe tbody tr th:only-of-type {\n",
       "        vertical-align: middle;\n",
       "    }\n",
       "\n",
       "    .dataframe tbody tr th {\n",
       "        vertical-align: top;\n",
       "    }\n",
       "\n",
       "    .dataframe thead th {\n",
       "        text-align: right;\n",
       "    }\n",
       "</style>\n",
       "<table border=\"1\" class=\"dataframe\">\n",
       "  <thead>\n",
       "    <tr style=\"text-align: right;\">\n",
       "      <th></th>\n",
       "      <th>Germany</th>\n",
       "      <th>Spain</th>\n",
       "      <th>Male</th>\n",
       "      <th>CreditScore</th>\n",
       "      <th>Age</th>\n",
       "      <th>Tenure</th>\n",
       "      <th>Balance</th>\n",
       "      <th>NumOfProducts</th>\n",
       "      <th>HasCrCard</th>\n",
       "      <th>IsActiveMember</th>\n",
       "      <th>EstimatedSalary</th>\n",
       "    </tr>\n",
       "  </thead>\n",
       "  <tbody>\n",
       "    <tr>\n",
       "      <th>0</th>\n",
       "      <td>0</td>\n",
       "      <td>0</td>\n",
       "      <td>0</td>\n",
       "      <td>619</td>\n",
       "      <td>42</td>\n",
       "      <td>2</td>\n",
       "      <td>0.00</td>\n",
       "      <td>1</td>\n",
       "      <td>1</td>\n",
       "      <td>1</td>\n",
       "      <td>101348.88</td>\n",
       "    </tr>\n",
       "    <tr>\n",
       "      <th>1</th>\n",
       "      <td>0</td>\n",
       "      <td>1</td>\n",
       "      <td>0</td>\n",
       "      <td>608</td>\n",
       "      <td>41</td>\n",
       "      <td>1</td>\n",
       "      <td>83807.86</td>\n",
       "      <td>1</td>\n",
       "      <td>0</td>\n",
       "      <td>1</td>\n",
       "      <td>112542.58</td>\n",
       "    </tr>\n",
       "    <tr>\n",
       "      <th>2</th>\n",
       "      <td>0</td>\n",
       "      <td>0</td>\n",
       "      <td>0</td>\n",
       "      <td>502</td>\n",
       "      <td>42</td>\n",
       "      <td>8</td>\n",
       "      <td>159660.80</td>\n",
       "      <td>3</td>\n",
       "      <td>1</td>\n",
       "      <td>0</td>\n",
       "      <td>113931.57</td>\n",
       "    </tr>\n",
       "    <tr>\n",
       "      <th>3</th>\n",
       "      <td>0</td>\n",
       "      <td>0</td>\n",
       "      <td>0</td>\n",
       "      <td>699</td>\n",
       "      <td>39</td>\n",
       "      <td>1</td>\n",
       "      <td>0.00</td>\n",
       "      <td>2</td>\n",
       "      <td>0</td>\n",
       "      <td>0</td>\n",
       "      <td>93826.63</td>\n",
       "    </tr>\n",
       "    <tr>\n",
       "      <th>4</th>\n",
       "      <td>0</td>\n",
       "      <td>1</td>\n",
       "      <td>0</td>\n",
       "      <td>850</td>\n",
       "      <td>43</td>\n",
       "      <td>2</td>\n",
       "      <td>125510.82</td>\n",
       "      <td>1</td>\n",
       "      <td>1</td>\n",
       "      <td>1</td>\n",
       "      <td>79084.10</td>\n",
       "    </tr>\n",
       "  </tbody>\n",
       "</table>\n",
       "</div>"
      ],
      "text/plain": [
       "   Germany  Spain  Male  CreditScore  Age  Tenure    Balance  NumOfProducts  \\\n",
       "0        0      0     0          619   42       2       0.00              1   \n",
       "1        0      1     0          608   41       1   83807.86              1   \n",
       "2        0      0     0          502   42       8  159660.80              3   \n",
       "3        0      0     0          699   39       1       0.00              2   \n",
       "4        0      1     0          850   43       2  125510.82              1   \n",
       "\n",
       "   HasCrCard  IsActiveMember  EstimatedSalary  \n",
       "0          1               1        101348.88  \n",
       "1          0               1        112542.58  \n",
       "2          1               0        113931.57  \n",
       "3          0               0         93826.63  \n",
       "4          1               1         79084.10  "
      ]
     },
     "execution_count": 8,
     "metadata": {},
     "output_type": "execute_result"
    }
   ],
   "source": [
    "data.head()"
   ]
  },
  {
   "cell_type": "code",
   "execution_count": 9,
   "metadata": {},
   "outputs": [],
   "source": [
    "# Splitting the dataset into the Training set and Test set\n",
    "X_train, X_test, y_train, y_test = train_test_split(data, label, test_size = 0.2, random_state = 101,stratify=label)"
   ]
  },
  {
   "cell_type": "code",
   "execution_count": 10,
   "metadata": {},
   "outputs": [],
   "source": [
    "def f2_make(y_true, y_pred):\n",
    "    return fbeta_score(y_true, y_pred, beta=2)"
   ]
  },
  {
   "cell_type": "code",
   "execution_count": 11,
   "metadata": {},
   "outputs": [],
   "source": [
    "f2 = make_scorer(f2_make)"
   ]
  },
  {
   "cell_type": "code",
   "execution_count": 12,
   "metadata": {},
   "outputs": [],
   "source": [
    "def create_model(layers, activation, optimizer, w_initializer):\n",
    "    model = Sequential()\n",
    "    for i, nodes in enumerate(layers):\n",
    "        if i ==0:\n",
    "            model.add(Dense(units=nodes, kernel_initializer= w_initializer, input_dim=X_train.shape[1]))\n",
    "            model.add(Activation(activation=activation))\n",
    "        else:\n",
    "            model.add(Dense(units=nodes, kernel_initializer= w_initializer))\n",
    "            model.add(Activation(activation=activation))\n",
    "            \n",
    "    model.add(Dense(units=1, kernel_initializer='glorot_uniform', activation='sigmoid'))\n",
    "    model.compile(optimizer=optimizer, loss='binary_crossentropy', metrics=['accuracy'])\n",
    "    return model"
   ]
  },
  {
   "cell_type": "code",
   "execution_count": 13,
   "metadata": {},
   "outputs": [
    {
     "data": {
      "text/plain": [
       "<tensorflow.python.keras.wrappers.scikit_learn.KerasClassifier at 0x2baa2997d68>"
      ]
     },
     "execution_count": 13,
     "metadata": {},
     "output_type": "execute_result"
    }
   ],
   "source": [
    "model = KerasClassifier(build_fn=create_model, verbose=0)\n",
    "model"
   ]
  },
  {
   "cell_type": "code",
   "execution_count": 14,
   "metadata": {},
   "outputs": [],
   "source": [
    "layers = [[80, 60, 45, 30, 15], [120, 80, 60, 45, 30, 15]]\n",
    "activations = ['sigmoid', 'relu']\n",
    "optimizers = ['rmsprop', 'adam']\n",
    "w_initializers = ['he_uniform']"
   ]
  },
  {
   "cell_type": "code",
   "execution_count": 15,
   "metadata": {},
   "outputs": [],
   "source": [
    "param_grid = {'mlp__layers':layers, 'mlp__activation':activations, 'mlp__optimizer' : optimizers, \n",
    "              'mlp__w_initializer' : w_initializers, 'mlp__batch_size' : [128], 'mlp__epochs':[60,80,120]}"
   ]
  },
  {
   "cell_type": "code",
   "execution_count": 16,
   "metadata": {},
   "outputs": [],
   "source": [
    "estimators = []\n",
    "estimators.append(('standardize', StandardScaler()))\n",
    "estimators.append(('mlp', model))"
   ]
  },
  {
   "cell_type": "code",
   "execution_count": 17,
   "metadata": {},
   "outputs": [],
   "source": [
    "pipeline = Pipeline(estimators)\n",
    "grid = GridSearchCV(estimator=pipeline, param_grid=param_grid, cv=5, n_jobs=-1, scoring=f2, verbose=1)"
   ]
  },
  {
   "cell_type": "code",
   "execution_count": 18,
   "metadata": {
    "scrolled": true
   },
   "outputs": [
    {
     "name": "stdout",
     "output_type": "stream",
     "text": [
      "Fitting 5 folds for each of 24 candidates, totalling 120 fits\n"
     ]
    },
    {
     "name": "stderr",
     "output_type": "stream",
     "text": [
      "[Parallel(n_jobs=-1)]: Using backend LokyBackend with 4 concurrent workers.\n",
      "[Parallel(n_jobs=-1)]: Done  42 tasks      | elapsed:  4.7min\n",
      "[Parallel(n_jobs=-1)]: Done 120 out of 120 | elapsed: 14.7min finished\n"
     ]
    },
    {
     "name": "stdout",
     "output_type": "stream",
     "text": [
      "Wall time: 14min 56s\n"
     ]
    }
   ],
   "source": [
    "%%time\n",
    "grid_result = grid.fit(X_train, y_train)"
   ]
  },
  {
   "cell_type": "code",
   "execution_count": 19,
   "metadata": {
    "scrolled": true
   },
   "outputs": [
    {
     "data": {
      "text/plain": [
       "[0.5906856276126778,\n",
       " {'mlp__activation': 'sigmoid',\n",
       "  'mlp__batch_size': 128,\n",
       "  'mlp__epochs': 60,\n",
       "  'mlp__layers': [120, 80, 60, 45, 30, 15],\n",
       "  'mlp__optimizer': 'rmsprop',\n",
       "  'mlp__w_initializer': 'he_uniform'}]"
      ]
     },
     "execution_count": 19,
     "metadata": {},
     "output_type": "execute_result"
    }
   ],
   "source": [
    "[grid_result.best_score_,grid_result.best_params_]"
   ]
  },
  {
   "cell_type": "code",
   "execution_count": 21,
   "metadata": {},
   "outputs": [],
   "source": [
    "# Feature Scaling\n",
    "SC = StandardScaler()\n",
    "X_train_scaled = SC.fit_transform(X_train)\n",
    "X_test_scaled = SC.transform(X_test)"
   ]
  },
  {
   "cell_type": "code",
   "execution_count": 22,
   "metadata": {},
   "outputs": [],
   "source": [
    "model = create_model([120, 80, 60, 45, 30, 15], 'sigmoid', 'rmsprop', 'he_uniform')"
   ]
  },
  {
   "cell_type": "code",
   "execution_count": 23,
   "metadata": {
    "scrolled": true
   },
   "outputs": [
    {
     "name": "stdout",
     "output_type": "stream",
     "text": [
      "Model: \"sequential_1\"\n",
      "_________________________________________________________________\n",
      "Layer (type)                 Output Shape              Param #   \n",
      "=================================================================\n",
      "dense_7 (Dense)              (None, 120)               1440      \n",
      "_________________________________________________________________\n",
      "activation_6 (Activation)    (None, 120)               0         \n",
      "_________________________________________________________________\n",
      "dense_8 (Dense)              (None, 80)                9680      \n",
      "_________________________________________________________________\n",
      "activation_7 (Activation)    (None, 80)                0         \n",
      "_________________________________________________________________\n",
      "dense_9 (Dense)              (None, 60)                4860      \n",
      "_________________________________________________________________\n",
      "activation_8 (Activation)    (None, 60)                0         \n",
      "_________________________________________________________________\n",
      "dense_10 (Dense)             (None, 45)                2745      \n",
      "_________________________________________________________________\n",
      "activation_9 (Activation)    (None, 45)                0         \n",
      "_________________________________________________________________\n",
      "dense_11 (Dense)             (None, 30)                1380      \n",
      "_________________________________________________________________\n",
      "activation_10 (Activation)   (None, 30)                0         \n",
      "_________________________________________________________________\n",
      "dense_12 (Dense)             (None, 15)                465       \n",
      "_________________________________________________________________\n",
      "activation_11 (Activation)   (None, 15)                0         \n",
      "_________________________________________________________________\n",
      "dense_13 (Dense)             (None, 1)                 16        \n",
      "=================================================================\n",
      "Total params: 20,586\n",
      "Trainable params: 20,586\n",
      "Non-trainable params: 0\n",
      "_________________________________________________________________\n"
     ]
    }
   ],
   "source": [
    "model.summary()"
   ]
  },
  {
   "cell_type": "code",
   "execution_count": 24,
   "metadata": {},
   "outputs": [
    {
     "name": "stdout",
     "output_type": "stream",
     "text": [
      "Train on 7200 samples, validate on 800 samples\n",
      "Epoch 1/60\n",
      "7200/7200 - 1s - loss: 0.6250 - accuracy: 0.6686 - val_loss: 0.5163 - val_accuracy: 0.8025\n",
      "Epoch 2/60\n",
      "7200/7200 - 0s - loss: 0.5098 - accuracy: 0.7956 - val_loss: 0.4971 - val_accuracy: 0.8025\n",
      "Epoch 3/60\n",
      "7200/7200 - 0s - loss: 0.5060 - accuracy: 0.7956 - val_loss: 0.4952 - val_accuracy: 0.8025\n",
      "Epoch 4/60\n",
      "7200/7200 - 0s - loss: 0.4936 - accuracy: 0.7956 - val_loss: 0.4653 - val_accuracy: 0.8025\n",
      "Epoch 5/60\n",
      "7200/7200 - 0s - loss: 0.4562 - accuracy: 0.7956 - val_loss: 0.4288 - val_accuracy: 0.8025\n",
      "Epoch 6/60\n",
      "7200/7200 - 0s - loss: 0.4341 - accuracy: 0.7956 - val_loss: 0.4377 - val_accuracy: 0.8163\n",
      "Epoch 7/60\n",
      "7200/7200 - 0s - loss: 0.4290 - accuracy: 0.7953 - val_loss: 0.4221 - val_accuracy: 0.8050\n",
      "Epoch 8/60\n",
      "7200/7200 - 0s - loss: 0.4269 - accuracy: 0.7949 - val_loss: 0.4144 - val_accuracy: 0.8025\n",
      "Epoch 9/60\n",
      "7200/7200 - 0s - loss: 0.4259 - accuracy: 0.7931 - val_loss: 0.4135 - val_accuracy: 0.8000\n",
      "Epoch 10/60\n",
      "7200/7200 - 0s - loss: 0.4248 - accuracy: 0.7925 - val_loss: 0.4156 - val_accuracy: 0.8100\n",
      "Epoch 11/60\n",
      "7200/7200 - 0s - loss: 0.4236 - accuracy: 0.7939 - val_loss: 0.4339 - val_accuracy: 0.8087\n",
      "Epoch 12/60\n",
      "7200/7200 - 0s - loss: 0.4237 - accuracy: 0.7926 - val_loss: 0.4130 - val_accuracy: 0.8125\n",
      "Epoch 13/60\n",
      "7200/7200 - 0s - loss: 0.4231 - accuracy: 0.8015 - val_loss: 0.4256 - val_accuracy: 0.8175\n",
      "Epoch 14/60\n",
      "7200/7200 - 0s - loss: 0.4222 - accuracy: 0.7971 - val_loss: 0.4123 - val_accuracy: 0.8050\n",
      "Epoch 15/60\n",
      "7200/7200 - 0s - loss: 0.4206 - accuracy: 0.7960 - val_loss: 0.4114 - val_accuracy: 0.8050\n",
      "Epoch 16/60\n",
      "7200/7200 - 0s - loss: 0.4190 - accuracy: 0.8000 - val_loss: 0.4089 - val_accuracy: 0.8100\n",
      "Epoch 17/60\n",
      "7200/7200 - 0s - loss: 0.4179 - accuracy: 0.8032 - val_loss: 0.4210 - val_accuracy: 0.8112\n",
      "Epoch 18/60\n",
      "7200/7200 - 0s - loss: 0.4152 - accuracy: 0.8086 - val_loss: 0.4189 - val_accuracy: 0.8150\n",
      "Epoch 19/60\n",
      "7200/7200 - 0s - loss: 0.4127 - accuracy: 0.8112 - val_loss: 0.4131 - val_accuracy: 0.8213\n",
      "Epoch 20/60\n",
      "7200/7200 - 0s - loss: 0.4085 - accuracy: 0.8133 - val_loss: 0.4035 - val_accuracy: 0.8288\n",
      "Epoch 21/60\n",
      "7200/7200 - 0s - loss: 0.4034 - accuracy: 0.8226 - val_loss: 0.3997 - val_accuracy: 0.8300\n",
      "Epoch 22/60\n",
      "7200/7200 - 0s - loss: 0.3964 - accuracy: 0.8282 - val_loss: 0.3889 - val_accuracy: 0.8475\n",
      "Epoch 23/60\n",
      "7200/7200 - 0s - loss: 0.3868 - accuracy: 0.8356 - val_loss: 0.4406 - val_accuracy: 0.7937\n",
      "Epoch 24/60\n",
      "7200/7200 - 0s - loss: 0.3790 - accuracy: 0.8410 - val_loss: 0.3735 - val_accuracy: 0.8575\n",
      "Epoch 25/60\n",
      "7200/7200 - 0s - loss: 0.3690 - accuracy: 0.8454 - val_loss: 0.3677 - val_accuracy: 0.8550\n",
      "Epoch 26/60\n",
      "7200/7200 - 0s - loss: 0.3621 - accuracy: 0.8522 - val_loss: 0.3789 - val_accuracy: 0.8375\n",
      "Epoch 27/60\n",
      "7200/7200 - 0s - loss: 0.3562 - accuracy: 0.8568 - val_loss: 0.4292 - val_accuracy: 0.7962\n",
      "Epoch 28/60\n",
      "7200/7200 - 0s - loss: 0.3519 - accuracy: 0.8562 - val_loss: 0.3995 - val_accuracy: 0.8325\n",
      "Epoch 29/60\n",
      "7200/7200 - 0s - loss: 0.3494 - accuracy: 0.8564 - val_loss: 0.3593 - val_accuracy: 0.8537\n",
      "Epoch 30/60\n",
      "7200/7200 - 0s - loss: 0.3484 - accuracy: 0.8575 - val_loss: 0.3561 - val_accuracy: 0.8637\n",
      "Epoch 31/60\n",
      "7200/7200 - 0s - loss: 0.3459 - accuracy: 0.8593 - val_loss: 0.3548 - val_accuracy: 0.8637\n",
      "Epoch 32/60\n",
      "7200/7200 - 0s - loss: 0.3431 - accuracy: 0.8612 - val_loss: 0.3589 - val_accuracy: 0.8612\n",
      "Epoch 33/60\n",
      "7200/7200 - 0s - loss: 0.3411 - accuracy: 0.8604 - val_loss: 0.4012 - val_accuracy: 0.8175\n",
      "Epoch 34/60\n",
      "7200/7200 - 0s - loss: 0.3413 - accuracy: 0.8633 - val_loss: 0.3444 - val_accuracy: 0.8650\n",
      "Epoch 35/60\n",
      "7200/7200 - 0s - loss: 0.3402 - accuracy: 0.8608 - val_loss: 0.4816 - val_accuracy: 0.7387\n",
      "Epoch 36/60\n",
      "7200/7200 - 0s - loss: 0.3401 - accuracy: 0.8612 - val_loss: 0.3443 - val_accuracy: 0.8675\n",
      "Epoch 37/60\n",
      "7200/7200 - 0s - loss: 0.3401 - accuracy: 0.8600 - val_loss: 0.3445 - val_accuracy: 0.8700\n",
      "Epoch 38/60\n",
      "7200/7200 - 0s - loss: 0.3363 - accuracy: 0.8639 - val_loss: 0.3565 - val_accuracy: 0.8600\n",
      "Epoch 39/60\n",
      "7200/7200 - 0s - loss: 0.3368 - accuracy: 0.8644 - val_loss: 0.3946 - val_accuracy: 0.8238\n",
      "Epoch 40/60\n",
      "7200/7200 - 0s - loss: 0.3353 - accuracy: 0.8635 - val_loss: 0.3662 - val_accuracy: 0.8625\n",
      "Epoch 41/60\n",
      "7200/7200 - 0s - loss: 0.3354 - accuracy: 0.8625 - val_loss: 0.3632 - val_accuracy: 0.8562\n",
      "Epoch 42/60\n",
      "7200/7200 - 0s - loss: 0.3359 - accuracy: 0.8639 - val_loss: 0.4020 - val_accuracy: 0.8138\n",
      "Epoch 43/60\n",
      "7200/7200 - 0s - loss: 0.3391 - accuracy: 0.8601 - val_loss: 0.4077 - val_accuracy: 0.8062\n",
      "Epoch 44/60\n",
      "7200/7200 - 0s - loss: 0.3351 - accuracy: 0.8624 - val_loss: 0.3536 - val_accuracy: 0.8650\n",
      "Epoch 45/60\n",
      "7200/7200 - 0s - loss: 0.3344 - accuracy: 0.8624 - val_loss: 0.3753 - val_accuracy: 0.8487\n",
      "Epoch 46/60\n",
      "7200/7200 - 0s - loss: 0.3334 - accuracy: 0.8636 - val_loss: 0.3778 - val_accuracy: 0.8413\n",
      "Epoch 47/60\n",
      "7200/7200 - 0s - loss: 0.3351 - accuracy: 0.8611 - val_loss: 0.3411 - val_accuracy: 0.8712\n",
      "Epoch 48/60\n",
      "7200/7200 - 0s - loss: 0.3316 - accuracy: 0.8650 - val_loss: 0.3459 - val_accuracy: 0.8675\n",
      "Epoch 49/60\n",
      "7200/7200 - 0s - loss: 0.3334 - accuracy: 0.8640 - val_loss: 0.3723 - val_accuracy: 0.8550\n",
      "Epoch 50/60\n",
      "7200/7200 - 0s - loss: 0.3327 - accuracy: 0.8626 - val_loss: 0.3405 - val_accuracy: 0.8737\n",
      "Epoch 51/60\n",
      "7200/7200 - 0s - loss: 0.3307 - accuracy: 0.8624 - val_loss: 0.4220 - val_accuracy: 0.7962\n",
      "Epoch 52/60\n",
      "7200/7200 - 0s - loss: 0.3319 - accuracy: 0.8619 - val_loss: 0.3449 - val_accuracy: 0.8637\n",
      "Epoch 53/60\n",
      "7200/7200 - 0s - loss: 0.3316 - accuracy: 0.8647 - val_loss: 0.3461 - val_accuracy: 0.8625\n",
      "Epoch 54/60\n",
      "7200/7200 - 0s - loss: 0.3285 - accuracy: 0.8656 - val_loss: 0.3485 - val_accuracy: 0.8575\n",
      "Epoch 55/60\n",
      "7200/7200 - 0s - loss: 0.3286 - accuracy: 0.8649 - val_loss: 0.3757 - val_accuracy: 0.8375\n",
      "Epoch 56/60\n",
      "7200/7200 - 0s - loss: 0.3301 - accuracy: 0.8665 - val_loss: 0.3384 - val_accuracy: 0.8750\n",
      "Epoch 57/60\n",
      "7200/7200 - 0s - loss: 0.3318 - accuracy: 0.8632 - val_loss: 0.3405 - val_accuracy: 0.8700\n",
      "Epoch 58/60\n",
      "7200/7200 - 0s - loss: 0.3280 - accuracy: 0.8651 - val_loss: 0.3423 - val_accuracy: 0.8637\n",
      "Epoch 59/60\n",
      "7200/7200 - 0s - loss: 0.3284 - accuracy: 0.8667 - val_loss: 0.3490 - val_accuracy: 0.8637\n",
      "Epoch 60/60\n",
      "7200/7200 - 0s - loss: 0.3278 - accuracy: 0.8675 - val_loss: 0.3485 - val_accuracy: 0.8600\n"
     ]
    }
   ],
   "source": [
    "history = model.fit(X_train_scaled, y_train, batch_size=128, epochs=60, validation_split=0.1, verbose=2).history"
   ]
  },
  {
   "cell_type": "code",
   "execution_count": 25,
   "metadata": {},
   "outputs": [],
   "source": [
    "pred_y = model.predict(X_test_scaled)\n",
    "pred_y = (pred_y > 0.5)"
   ]
  },
  {
   "cell_type": "code",
   "execution_count": 26,
   "metadata": {},
   "outputs": [
    {
     "name": "stdout",
     "output_type": "stream",
     "text": [
      "              precision    recall  f1-score   support\n",
      "\n",
      "           0       0.88      0.93      0.90      1593\n",
      "           1       0.65      0.48      0.55       407\n",
      "\n",
      "    accuracy                           0.84      2000\n",
      "   macro avg       0.76      0.71      0.73      2000\n",
      "weighted avg       0.83      0.84      0.83      2000\n",
      "\n"
     ]
    }
   ],
   "source": [
    "#performance on test data\n",
    "print(classification_report(y_test, pred_y))"
   ]
  },
  {
   "cell_type": "code",
   "execution_count": 27,
   "metadata": {},
   "outputs": [
    {
     "name": "stdout",
     "output_type": "stream",
     "text": [
      "              precision    recall  f1-score   support\n",
      "\n",
      "           0       0.90      0.94      0.92      6370\n",
      "           1       0.71      0.58      0.64      1630\n",
      "\n",
      "    accuracy                           0.87      8000\n",
      "   macro avg       0.80      0.76      0.78      8000\n",
      "weighted avg       0.86      0.87      0.86      8000\n",
      "\n"
     ]
    }
   ],
   "source": [
    "#performance on train data\n",
    "pred_y = model.predict(X_train_scaled)\n",
    "pred_y = (pred_y > 0.5)\n",
    "print(classification_report(y_train, pred_y))"
   ]
  },
  {
   "cell_type": "code",
   "execution_count": 29,
   "metadata": {},
   "outputs": [
    {
     "data": {
      "text/plain": [
       "<matplotlib.legend.Legend at 0x2baa7188320>"
      ]
     },
     "execution_count": 29,
     "metadata": {},
     "output_type": "execute_result"
    },
    {
     "data": {
      "image/png": "[encoded data removed]",
      "text/plain": [
       "<Figure size 432x288 with 1 Axes>"
      ]
     },
     "metadata": {
      "needs_background": "light"
     },
     "output_type": "display_data"
    }
   ],
   "source": [
    "plt.plot(np.arange(1,61), history['loss'], label='Training loss')\n",
    "plt.plot(np.arange(1,61), history['val_loss'], label='Test loss')\n",
    "plt.legend()"
   ]
  },
  {
   "cell_type": "code",
   "execution_count": 30,
   "metadata": {},
   "outputs": [
    {
     "data": {
      "text/plain": [
       "<matplotlib.legend.Legend at 0x2baa71f6978>"
      ]
     },
     "execution_count": 30,
     "metadata": {},
     "output_type": "execute_result"
    },
    {
     "data": {
      "image/png": "[encoded data removed]",
      "text/plain": [
       "<Figure size 432x288 with 1 Axes>"
      ]
     },
     "metadata": {
      "needs_background": "light"
     },
     "output_type": "display_data"
    }
   ],
   "source": [
    "plt.plot(np.arange(1,61), history['accuracy'], label='Training acc')\n",
    "plt.plot(np.arange(1,61), history['val_accuracy'], label='Test acc')\n",
    "plt.legend()"
   ]
  },
  {
   "cell_type": "code",
   "execution_count": 31,
   "metadata": {},
   "outputs": [],
   "source": [
    "# performance is very power, need to apply some sampling."
   ]
  },
  {
   "cell_type": "code",
   "execution_count": null,
   "metadata": {},
   "outputs": [],
   "source": []
  }
 ],
 "metadata": {
  "kernelspec": {
   "display_name": "Python 3",
   "language": "python",
   "name": "python3"
  },
  "language_info": {
   "codemirror_mode": {
    "name": "ipython",
    "version": 3
   },
   "file_extension": ".py",
   "mimetype": "text/x-python",
   "name": "python",
   "nbconvert_exporter": "python",
   "pygments_lexer": "ipython3",
   "version": "3.6.8"
  }
 },
 "nbformat": 4,
 "nbformat_minor": 4
}
